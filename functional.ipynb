{
 "cells": [
  {
   "cell_type": "markdown",
   "metadata": {
    "collapsed": true
   },
   "source": [
    "# What is Functional Programming?\n",
    "* From HaskellWiki: *\"Functional programming is a style of programming which models computations as the evaluation of expressions.\"*\n",
    "* Functional Programming is programming without state\n",
    "  * No mutability!\n",
    "  * Referential Transparency!\n",
    "  * Great for pipelines!\n",
    "* Another view: Functional programs describe what things are instead of how to do them"
   ]
  },
  {
   "cell_type": "code",
   "execution_count": 1,
   "metadata": {
    "collapsed": false
   },
   "outputs": [
    {
     "data": {
      "text/plain": [
       "3628800"
      ]
     },
     "metadata": {},
     "output_type": "display_data"
    }
   ],
   "source": [
    "fact 0 = 1\n",
    "fact n = n * fact (n-1)\n",
    "-- Pro way of doing this: fact n = product [1..n]\n",
    "\n",
    "fact 10"
   ]
  },
  {
   "cell_type": "markdown",
   "metadata": {},
   "source": [
    "# Benefits of Functional Programming, or: why do you care?\n",
    "* Clean, modular code\n",
    "* Easy to refactor\n",
    "* Easy to make abstractions\n",
    "* Allows for *tons* of aggressive compliler optimizations\n",
    "* Can look at functions in isolation\n",
    "* Often trivially parallizeable\n",
    "  * No state -> no data races\n",
    "  * No state -> extremely lightweight threads"
   ]
  },
  {
   "cell_type": "code",
   "execution_count": 2,
   "metadata": {
    "collapsed": false
   },
   "outputs": [
    {
     "data": {
      "text/plain": [
       "[1,2,3,4]"
      ]
     },
     "metadata": {},
     "output_type": "display_data"
    },
    {
     "data": {
      "text/plain": [
       "[1,2,3,4]"
      ]
     },
     "metadata": {},
     "output_type": "display_data"
    }
   ],
   "source": [
    "-- Parallelization example\n",
    "import Control.Parallel.Strategies (parMap, rseq) -- from `parallel` package\n",
    "\n",
    "-- Non-parallel version\n",
    "incrementAll xs = map (+1) xs\n",
    "\n",
    "-- Parallel version\n",
    "incrementAll' xs = parMap rseq (+1) xs\n",
    "\n",
    "incrementAll [0,1,2,3]\n",
    "incrementAll' [0,1,2,3]"
   ]
  },
  {
   "cell_type": "markdown",
   "metadata": {},
   "source": [
    "# Examples of Functional Languages\n",
    "**Lisp Family**\n",
    "* Common Lisp\n",
    "* Clojure\n",
    "* Scheme\n",
    "* Racket\n",
    "\n",
    "**ML Family**\n",
    "* Haskell <- This is what we will be using today\n",
    "* OCaml\n",
    "* Erlang\n",
    "* Scala\n",
    "* Elm"
   ]
  },
  {
   "cell_type": "markdown",
   "metadata": {},
   "source": [
    "# You are already using functional programming!\n",
    "* Lambdas\n",
    "* Recursion\n",
    "* Arguably generators!\n",
    "* Math!\n",
    "* So take the leap! Cast off your imperative chains!"
   ]
  },
  {
   "cell_type": "markdown",
   "metadata": {
    "collapsed": true
   },
   "source": [
    "# Hello, Haskell"
   ]
  },
  {
   "cell_type": "code",
   "execution_count": 3,
   "metadata": {
    "collapsed": false,
    "scrolled": true
   },
   "outputs": [
    {
     "data": {
      "text/html": [
       "<style>/*\n",
       "Custom IHaskell CSS.\n",
       "*/\n",
       "\n",
       "/* Styles used for the Hoogle display in the pager */\n",
       ".hoogle-doc {\n",
       "    display: block;\n",
       "    padding-bottom: 1.3em;\n",
       "    padding-left: 0.4em;\n",
       "}\n",
       ".hoogle-code {\n",
       "    display: block;\n",
       "    font-family: monospace;\n",
       "    white-space: pre;\n",
       "}\n",
       ".hoogle-text {\n",
       "    display: block;\n",
       "}\n",
       ".hoogle-name {\n",
       "    color: green;\n",
       "    font-weight: bold;\n",
       "}\n",
       ".hoogle-head {\n",
       "    font-weight: bold;\n",
       "}\n",
       ".hoogle-sub {\n",
       "    display: block;\n",
       "    margin-left: 0.4em;\n",
       "}\n",
       ".hoogle-package {\n",
       "    font-weight: bold;\n",
       "    font-style: italic;\n",
       "}\n",
       ".hoogle-module {\n",
       "    font-weight: bold;\n",
       "}\n",
       ".hoogle-class {\n",
       "    font-weight: bold;\n",
       "}\n",
       "\n",
       "/* Styles used for basic displays */\n",
       ".get-type {\n",
       "    color: green;\n",
       "    font-weight: bold;\n",
       "    font-family: monospace;\n",
       "    display: block;\n",
       "    white-space: pre-wrap;\n",
       "}\n",
       "\n",
       ".show-type {\n",
       "    color: green;\n",
       "    font-weight: bold;\n",
       "    font-family: monospace;\n",
       "    margin-left: 1em;\n",
       "}\n",
       "\n",
       ".mono {\n",
       "    font-family: monospace;\n",
       "    display: block;\n",
       "}\n",
       "\n",
       ".err-msg {\n",
       "    color: red;\n",
       "    font-style: italic;\n",
       "    font-family: monospace;\n",
       "    white-space: pre;\n",
       "    display: block;\n",
       "}\n",
       "\n",
       "#unshowable {\n",
       "    color: red;\n",
       "    font-weight: bold;\n",
       "}\n",
       "\n",
       ".err-msg.in.collapse {\n",
       "  padding-top: 0.7em;\n",
       "}\n",
       "\n",
       "/* Code that will get highlighted before it is highlighted */\n",
       ".highlight-code {\n",
       "    white-space: pre;\n",
       "    font-family: monospace;\n",
       "}\n",
       "\n",
       "/* Hlint styles */\n",
       ".suggestion-warning { \n",
       "    font-weight: bold;\n",
       "    color: rgb(200, 130, 0);\n",
       "}\n",
       ".suggestion-error { \n",
       "    font-weight: bold;\n",
       "    color: red;\n",
       "}\n",
       ".suggestion-name {\n",
       "    font-weight: bold;\n",
       "}\n",
       "</style><span class='get-type'>main :: IO ()</span>"
      ],
      "text/plain": [
       "main :: IO ()"
      ]
     },
     "metadata": {},
     "output_type": "display_data"
    },
    {
     "data": {
      "text/html": [
       "<style>/*\n",
       "Custom IHaskell CSS.\n",
       "*/\n",
       "\n",
       "/* Styles used for the Hoogle display in the pager */\n",
       ".hoogle-doc {\n",
       "    display: block;\n",
       "    padding-bottom: 1.3em;\n",
       "    padding-left: 0.4em;\n",
       "}\n",
       ".hoogle-code {\n",
       "    display: block;\n",
       "    font-family: monospace;\n",
       "    white-space: pre;\n",
       "}\n",
       ".hoogle-text {\n",
       "    display: block;\n",
       "}\n",
       ".hoogle-name {\n",
       "    color: green;\n",
       "    font-weight: bold;\n",
       "}\n",
       ".hoogle-head {\n",
       "    font-weight: bold;\n",
       "}\n",
       ".hoogle-sub {\n",
       "    display: block;\n",
       "    margin-left: 0.4em;\n",
       "}\n",
       ".hoogle-package {\n",
       "    font-weight: bold;\n",
       "    font-style: italic;\n",
       "}\n",
       ".hoogle-module {\n",
       "    font-weight: bold;\n",
       "}\n",
       ".hoogle-class {\n",
       "    font-weight: bold;\n",
       "}\n",
       "\n",
       "/* Styles used for basic displays */\n",
       ".get-type {\n",
       "    color: green;\n",
       "    font-weight: bold;\n",
       "    font-family: monospace;\n",
       "    display: block;\n",
       "    white-space: pre-wrap;\n",
       "}\n",
       "\n",
       ".show-type {\n",
       "    color: green;\n",
       "    font-weight: bold;\n",
       "    font-family: monospace;\n",
       "    margin-left: 1em;\n",
       "}\n",
       "\n",
       ".mono {\n",
       "    font-family: monospace;\n",
       "    display: block;\n",
       "}\n",
       "\n",
       ".err-msg {\n",
       "    color: red;\n",
       "    font-style: italic;\n",
       "    font-family: monospace;\n",
       "    white-space: pre;\n",
       "    display: block;\n",
       "}\n",
       "\n",
       "#unshowable {\n",
       "    color: red;\n",
       "    font-weight: bold;\n",
       "}\n",
       "\n",
       ".err-msg.in.collapse {\n",
       "  padding-top: 0.7em;\n",
       "}\n",
       "\n",
       "/* Code that will get highlighted before it is highlighted */\n",
       ".highlight-code {\n",
       "    white-space: pre;\n",
       "    font-family: monospace;\n",
       "}\n",
       "\n",
       "/* Hlint styles */\n",
       ".suggestion-warning { \n",
       "    font-weight: bold;\n",
       "    color: rgb(200, 130, 0);\n",
       "}\n",
       ".suggestion-error { \n",
       "    font-weight: bold;\n",
       "    color: red;\n",
       "}\n",
       ".suggestion-name {\n",
       "    font-weight: bold;\n",
       "}\n",
       "</style><span class='get-type'>putStrLn :: String -> IO ()</span>"
      ],
      "text/plain": [
       "putStrLn :: String -> IO ()"
      ]
     },
     "metadata": {},
     "output_type": "display_data"
    },
    {
     "data": {
      "text/html": [
       "<style>/*\n",
       "Custom IHaskell CSS.\n",
       "*/\n",
       "\n",
       "/* Styles used for the Hoogle display in the pager */\n",
       ".hoogle-doc {\n",
       "    display: block;\n",
       "    padding-bottom: 1.3em;\n",
       "    padding-left: 0.4em;\n",
       "}\n",
       ".hoogle-code {\n",
       "    display: block;\n",
       "    font-family: monospace;\n",
       "    white-space: pre;\n",
       "}\n",
       ".hoogle-text {\n",
       "    display: block;\n",
       "}\n",
       ".hoogle-name {\n",
       "    color: green;\n",
       "    font-weight: bold;\n",
       "}\n",
       ".hoogle-head {\n",
       "    font-weight: bold;\n",
       "}\n",
       ".hoogle-sub {\n",
       "    display: block;\n",
       "    margin-left: 0.4em;\n",
       "}\n",
       ".hoogle-package {\n",
       "    font-weight: bold;\n",
       "    font-style: italic;\n",
       "}\n",
       ".hoogle-module {\n",
       "    font-weight: bold;\n",
       "}\n",
       ".hoogle-class {\n",
       "    font-weight: bold;\n",
       "}\n",
       "\n",
       "/* Styles used for basic displays */\n",
       ".get-type {\n",
       "    color: green;\n",
       "    font-weight: bold;\n",
       "    font-family: monospace;\n",
       "    display: block;\n",
       "    white-space: pre-wrap;\n",
       "}\n",
       "\n",
       ".show-type {\n",
       "    color: green;\n",
       "    font-weight: bold;\n",
       "    font-family: monospace;\n",
       "    margin-left: 1em;\n",
       "}\n",
       "\n",
       ".mono {\n",
       "    font-family: monospace;\n",
       "    display: block;\n",
       "}\n",
       "\n",
       ".err-msg {\n",
       "    color: red;\n",
       "    font-style: italic;\n",
       "    font-family: monospace;\n",
       "    white-space: pre;\n",
       "    display: block;\n",
       "}\n",
       "\n",
       "#unshowable {\n",
       "    color: red;\n",
       "    font-weight: bold;\n",
       "}\n",
       "\n",
       ".err-msg.in.collapse {\n",
       "  padding-top: 0.7em;\n",
       "}\n",
       "\n",
       "/* Code that will get highlighted before it is highlighted */\n",
       ".highlight-code {\n",
       "    white-space: pre;\n",
       "    font-family: monospace;\n",
       "}\n",
       "\n",
       "/* Hlint styles */\n",
       ".suggestion-warning { \n",
       "    font-weight: bold;\n",
       "    color: rgb(200, 130, 0);\n",
       "}\n",
       ".suggestion-error { \n",
       "    font-weight: bold;\n",
       "    color: red;\n",
       "}\n",
       ".suggestion-name {\n",
       "    font-weight: bold;\n",
       "}\n",
       "</style><span class='get-type'>\"Hello, World!\" :: [Char]</span>"
      ],
      "text/plain": [
       "\"Hello, World!\" :: [Char]"
      ]
     },
     "metadata": {},
     "output_type": "display_data"
    },
    {
     "data": {
      "text/plain": [
       "Hello, World!"
      ]
     },
     "metadata": {},
     "output_type": "display_data"
    }
   ],
   "source": [
    "-- \"Hello, World!\" in Haskell\n",
    "main = putStrLn \"Hello, World!\"\n",
    "\n",
    ":t main\n",
    ":t putStrLn\n",
    ":t \"Hello, World!\"\n",
    "main"
   ]
  },
  {
   "cell_type": "markdown",
   "metadata": {},
   "source": [
    "# Thinking Functionally"
   ]
  },
  {
   "cell_type": "markdown",
   "metadata": {
    "collapsed": false
   },
   "source": [
    "## Printing first 100 primes"
   ]
  },
  {
   "cell_type": "code",
   "execution_count": 4,
   "metadata": {
    "collapsed": false
   },
   "outputs": [
    {
     "data": {
      "text/plain": [
       "[2,3,5,7,11,13,17,19,23,29,31,37,41,43,47,53,59,61,67,71,73,79,83,89,97,101,103,107,109,113,127,131,137,139,149,151,157,163,167,173,179,181,191,193,197,199,211,223,227,229,233,239,241,251,257,263,269,271,277,281,283,293,307,311,313,317,331,337,347,349,353,359,367,373,379,383,389,397,401,409,419,421,431,433,439,443,449,457,461,463,467,479,487,491,499,503,509,521,523,541]"
      ]
     },
     "metadata": {},
     "output_type": "display_data"
    }
   ],
   "source": [
    "primes :: [Integer]\n",
    "primes = 2 : filter isPrime [3..]\n",
    "\n",
    "isPrime :: Integer -> Bool\n",
    "isPrime n = divisibleByNone n relevantPrimes\n",
    "    where relevantPrimes = takeWhile relevant primes\n",
    "          relevant p = p*p <= n\n",
    "\n",
    "divisibleByNone :: Integer -> [Integer] -> Bool\n",
    "divisibleByNone n = not . any (divides n)\n",
    "    where divides n p = n `mod` p == 0\n",
    "\n",
    "main :: IO ()\n",
    "main = print . take 100 $ primes\n",
    "\n",
    "main\n",
    "\n",
    "-- Do < 1000 example\n",
    "\n",
    "-- See primes.py for imperative comparison!"
   ]
  },
  {
   "cell_type": "markdown",
   "metadata": {},
   "source": [
    "## Map Filter Reduce\n",
    "* General approach for solving large classes of problems\n",
    "* Lends itself well to parallelization, distributed computing, etc\n",
    "* Strategy:\n",
    "  * Start with a large dataset\n",
    "  * Apply some transformation to each (`map`)\n",
    "  * Cut down to just the interesting results (`filter`)\n",
    "  * Summarize (`reduce`)\n",
    "* `map`, `filter`, and `reduce` are the name of the python functions. In Haskell, they are `map`, `filter`, and `foldl`/`foldr`."
   ]
  },
  {
   "cell_type": "code",
   "execution_count": 5,
   "metadata": {
    "collapsed": false
   },
   "outputs": [
    {
     "data": {
      "text/html": [
       "<style>/*\n",
       "Custom IHaskell CSS.\n",
       "*/\n",
       "\n",
       "/* Styles used for the Hoogle display in the pager */\n",
       ".hoogle-doc {\n",
       "    display: block;\n",
       "    padding-bottom: 1.3em;\n",
       "    padding-left: 0.4em;\n",
       "}\n",
       ".hoogle-code {\n",
       "    display: block;\n",
       "    font-family: monospace;\n",
       "    white-space: pre;\n",
       "}\n",
       ".hoogle-text {\n",
       "    display: block;\n",
       "}\n",
       ".hoogle-name {\n",
       "    color: green;\n",
       "    font-weight: bold;\n",
       "}\n",
       ".hoogle-head {\n",
       "    font-weight: bold;\n",
       "}\n",
       ".hoogle-sub {\n",
       "    display: block;\n",
       "    margin-left: 0.4em;\n",
       "}\n",
       ".hoogle-package {\n",
       "    font-weight: bold;\n",
       "    font-style: italic;\n",
       "}\n",
       ".hoogle-module {\n",
       "    font-weight: bold;\n",
       "}\n",
       ".hoogle-class {\n",
       "    font-weight: bold;\n",
       "}\n",
       "\n",
       "/* Styles used for basic displays */\n",
       ".get-type {\n",
       "    color: green;\n",
       "    font-weight: bold;\n",
       "    font-family: monospace;\n",
       "    display: block;\n",
       "    white-space: pre-wrap;\n",
       "}\n",
       "\n",
       ".show-type {\n",
       "    color: green;\n",
       "    font-weight: bold;\n",
       "    font-family: monospace;\n",
       "    margin-left: 1em;\n",
       "}\n",
       "\n",
       ".mono {\n",
       "    font-family: monospace;\n",
       "    display: block;\n",
       "}\n",
       "\n",
       ".err-msg {\n",
       "    color: red;\n",
       "    font-style: italic;\n",
       "    font-family: monospace;\n",
       "    white-space: pre;\n",
       "    display: block;\n",
       "}\n",
       "\n",
       "#unshowable {\n",
       "    color: red;\n",
       "    font-weight: bold;\n",
       "}\n",
       "\n",
       ".err-msg.in.collapse {\n",
       "  padding-top: 0.7em;\n",
       "}\n",
       "\n",
       "/* Code that will get highlighted before it is highlighted */\n",
       ".highlight-code {\n",
       "    white-space: pre;\n",
       "    font-family: monospace;\n",
       "}\n",
       "\n",
       "/* Hlint styles */\n",
       ".suggestion-warning { \n",
       "    font-weight: bold;\n",
       "    color: rgb(200, 130, 0);\n",
       "}\n",
       ".suggestion-error { \n",
       "    font-weight: bold;\n",
       "    color: red;\n",
       "}\n",
       ".suggestion-name {\n",
       "    font-weight: bold;\n",
       "}\n",
       "</style><span class='get-type'>map :: forall a b. (a -> b) -> [a] -> [b]</span>"
      ],
      "text/plain": [
       "map :: forall a b. (a -> b) -> [a] -> [b]"
      ]
     },
     "metadata": {},
     "output_type": "display_data"
    },
    {
     "data": {
      "text/plain": [
       "[0,-1,-2,-3,-4,-5,-6,-7,-8,-9,-10]"
      ]
     },
     "metadata": {},
     "output_type": "display_data"
    }
   ],
   "source": [
    ":t map\n",
    "map negate [0..10]"
   ]
  },
  {
   "cell_type": "code",
   "execution_count": 6,
   "metadata": {
    "collapsed": false
   },
   "outputs": [
    {
     "data": {
      "text/html": [
       "<style>/*\n",
       "Custom IHaskell CSS.\n",
       "*/\n",
       "\n",
       "/* Styles used for the Hoogle display in the pager */\n",
       ".hoogle-doc {\n",
       "    display: block;\n",
       "    padding-bottom: 1.3em;\n",
       "    padding-left: 0.4em;\n",
       "}\n",
       ".hoogle-code {\n",
       "    display: block;\n",
       "    font-family: monospace;\n",
       "    white-space: pre;\n",
       "}\n",
       ".hoogle-text {\n",
       "    display: block;\n",
       "}\n",
       ".hoogle-name {\n",
       "    color: green;\n",
       "    font-weight: bold;\n",
       "}\n",
       ".hoogle-head {\n",
       "    font-weight: bold;\n",
       "}\n",
       ".hoogle-sub {\n",
       "    display: block;\n",
       "    margin-left: 0.4em;\n",
       "}\n",
       ".hoogle-package {\n",
       "    font-weight: bold;\n",
       "    font-style: italic;\n",
       "}\n",
       ".hoogle-module {\n",
       "    font-weight: bold;\n",
       "}\n",
       ".hoogle-class {\n",
       "    font-weight: bold;\n",
       "}\n",
       "\n",
       "/* Styles used for basic displays */\n",
       ".get-type {\n",
       "    color: green;\n",
       "    font-weight: bold;\n",
       "    font-family: monospace;\n",
       "    display: block;\n",
       "    white-space: pre-wrap;\n",
       "}\n",
       "\n",
       ".show-type {\n",
       "    color: green;\n",
       "    font-weight: bold;\n",
       "    font-family: monospace;\n",
       "    margin-left: 1em;\n",
       "}\n",
       "\n",
       ".mono {\n",
       "    font-family: monospace;\n",
       "    display: block;\n",
       "}\n",
       "\n",
       ".err-msg {\n",
       "    color: red;\n",
       "    font-style: italic;\n",
       "    font-family: monospace;\n",
       "    white-space: pre;\n",
       "    display: block;\n",
       "}\n",
       "\n",
       "#unshowable {\n",
       "    color: red;\n",
       "    font-weight: bold;\n",
       "}\n",
       "\n",
       ".err-msg.in.collapse {\n",
       "  padding-top: 0.7em;\n",
       "}\n",
       "\n",
       "/* Code that will get highlighted before it is highlighted */\n",
       ".highlight-code {\n",
       "    white-space: pre;\n",
       "    font-family: monospace;\n",
       "}\n",
       "\n",
       "/* Hlint styles */\n",
       ".suggestion-warning { \n",
       "    font-weight: bold;\n",
       "    color: rgb(200, 130, 0);\n",
       "}\n",
       ".suggestion-error { \n",
       "    font-weight: bold;\n",
       "    color: red;\n",
       "}\n",
       ".suggestion-name {\n",
       "    font-weight: bold;\n",
       "}\n",
       "</style><span class='get-type'>filter :: forall a. (a -> Bool) -> [a] -> [a]</span>"
      ],
      "text/plain": [
       "filter :: forall a. (a -> Bool) -> [a] -> [a]"
      ]
     },
     "metadata": {},
     "output_type": "display_data"
    },
    {
     "data": {
      "text/plain": [
       "[0,2,4,6,8,10]"
      ]
     },
     "metadata": {},
     "output_type": "display_data"
    }
   ],
   "source": [
    ":t filter\n",
    "filter even [0..10]"
   ]
  },
  {
   "cell_type": "code",
   "execution_count": 7,
   "metadata": {
    "collapsed": false
   },
   "outputs": [
    {
     "data": {
      "text/html": [
       "<style>/*\n",
       "Custom IHaskell CSS.\n",
       "*/\n",
       "\n",
       "/* Styles used for the Hoogle display in the pager */\n",
       ".hoogle-doc {\n",
       "    display: block;\n",
       "    padding-bottom: 1.3em;\n",
       "    padding-left: 0.4em;\n",
       "}\n",
       ".hoogle-code {\n",
       "    display: block;\n",
       "    font-family: monospace;\n",
       "    white-space: pre;\n",
       "}\n",
       ".hoogle-text {\n",
       "    display: block;\n",
       "}\n",
       ".hoogle-name {\n",
       "    color: green;\n",
       "    font-weight: bold;\n",
       "}\n",
       ".hoogle-head {\n",
       "    font-weight: bold;\n",
       "}\n",
       ".hoogle-sub {\n",
       "    display: block;\n",
       "    margin-left: 0.4em;\n",
       "}\n",
       ".hoogle-package {\n",
       "    font-weight: bold;\n",
       "    font-style: italic;\n",
       "}\n",
       ".hoogle-module {\n",
       "    font-weight: bold;\n",
       "}\n",
       ".hoogle-class {\n",
       "    font-weight: bold;\n",
       "}\n",
       "\n",
       "/* Styles used for basic displays */\n",
       ".get-type {\n",
       "    color: green;\n",
       "    font-weight: bold;\n",
       "    font-family: monospace;\n",
       "    display: block;\n",
       "    white-space: pre-wrap;\n",
       "}\n",
       "\n",
       ".show-type {\n",
       "    color: green;\n",
       "    font-weight: bold;\n",
       "    font-family: monospace;\n",
       "    margin-left: 1em;\n",
       "}\n",
       "\n",
       ".mono {\n",
       "    font-family: monospace;\n",
       "    display: block;\n",
       "}\n",
       "\n",
       ".err-msg {\n",
       "    color: red;\n",
       "    font-style: italic;\n",
       "    font-family: monospace;\n",
       "    white-space: pre;\n",
       "    display: block;\n",
       "}\n",
       "\n",
       "#unshowable {\n",
       "    color: red;\n",
       "    font-weight: bold;\n",
       "}\n",
       "\n",
       ".err-msg.in.collapse {\n",
       "  padding-top: 0.7em;\n",
       "}\n",
       "\n",
       "/* Code that will get highlighted before it is highlighted */\n",
       ".highlight-code {\n",
       "    white-space: pre;\n",
       "    font-family: monospace;\n",
       "}\n",
       "\n",
       "/* Hlint styles */\n",
       ".suggestion-warning { \n",
       "    font-weight: bold;\n",
       "    color: rgb(200, 130, 0);\n",
       "}\n",
       ".suggestion-error { \n",
       "    font-weight: bold;\n",
       "    color: red;\n",
       "}\n",
       ".suggestion-name {\n",
       "    font-weight: bold;\n",
       "}\n",
       "</style> <div class=\"suggestion-name\" style=\"clear:both;\">Use sum</div>  <div class=\"suggestion-row\" style=\"float: left;\"> <div class=\"suggestion-error\">Found:</div>  <div class=\"highlight-code\" id=\"haskell\">foldl (+) 0</div> </div>  <div class=\"suggestion-row\" style=\"float: left;\"> <div class=\"suggestion-error\">Why Not:</div>  <div class=\"highlight-code\" id=\"haskell\">sum</div> </div> "
      ],
      "text/plain": [
       "Line 1: Use sum\n",
       "Found:\n",
       "foldl (+) 0\n",
       "Why not:\n",
       "sum"
      ]
     },
     "metadata": {},
     "output_type": "display_data"
    },
    {
     "data": {
      "text/plain": [
       "55"
      ]
     },
     "metadata": {},
     "output_type": "display_data"
    }
   ],
   "source": [
    "foldl (+) 0 [1..10]"
   ]
  },
  {
   "cell_type": "code",
   "execution_count": 8,
   "metadata": {
    "collapsed": false
   },
   "outputs": [
    {
     "data": {
      "text/plain": [
       "123"
      ]
     },
     "metadata": {},
     "output_type": "display_data"
    }
   ],
   "source": [
    "import Data.Char (digitToInt)\n",
    "\n",
    "readInt :: String -> Int\n",
    "readInt to_read = foldl step 0 to_read\n",
    "    where step old new = old*10 + digitToInt new\n",
    "    \n",
    "readInt \"123\""
   ]
  },
  {
   "cell_type": "markdown",
   "metadata": {},
   "source": [
    "## Map Filter Reduce for Weak Lensing Pipeline\n",
    "* Goal: Take a bunch of raw images, process them, and combine only the high quality ones"
   ]
  },
  {
   "cell_type": "code",
   "execution_count": 9,
   "metadata": {
    "collapsed": false
   },
   "outputs": [],
   "source": [
    "-- Weak lensing pipeline\n",
    "\n",
    "process :: RawImage -> ProcessedImage\n",
    "process = undefined\n",
    "\n",
    "highQuality :: ProcessedImage -> Bool\n",
    "highQuality = undefined\n",
    "\n",
    "addToStack :: Stack -> ProcessedImage -> Stack\n",
    "addToStack = undefined\n",
    "\n",
    "emptyStack :: Stack\n",
    "emptyStack = undefined\n",
    "\n",
    "pipeline :: [RawImage] -> Stack\n",
    "pipeline = foldl addToStack emptyStack . filter highQuality . map process\n",
    "\n",
    "parallel_pipeline :: [RawImage] -> Stack\n",
    "parallel_pipeline = foldl addToStack emptyStack . filter highQuality . parMap rseq process\n",
    "\n",
    "data RawImage = RawImage {\n",
    "    -- Raw image data here\n",
    "    }\n",
    "\n",
    "data ProcessedImage = ProcessedImage {\n",
    "    -- Process image data here\n",
    "    }\n",
    "    \n",
    "data Stack = Stack {\n",
    "    -- Stacked image data here\n",
    "    }"
   ]
  },
  {
   "cell_type": "markdown",
   "metadata": {},
   "source": [
    "## Parsing CSV files"
   ]
  },
  {
   "cell_type": "code",
   "execution_count": 10,
   "metadata": {
    "collapsed": false
   },
   "outputs": [
    {
     "data": {
      "text/plain": [
       "Right [[\"Haskell\",\"Functional\"],[\"Python\",\"Imperative\"],[\"Prolog\",\"Logical\"]]"
      ]
     },
     "metadata": {},
     "output_type": "display_data"
    }
   ],
   "source": [
    "-- CSV Parser example\n",
    "import qualified Text.Parsec as P -- from `parsec` package\n",
    "import Text.Parsec.String (Parser) -- ditto\n",
    "import Control.Applicative -- built in\n",
    "\n",
    "-- define types\n",
    "type CSV = [Record]\n",
    "type Record = [Field]\n",
    "type Field = String\n",
    "\n",
    "-- basic CSV parser\n",
    "csv :: Parser CSV\n",
    "csv = record `P.sepBy` P.endOfLine\n",
    "\n",
    "record :: Parser Record\n",
    "record = field `P.sepBy` P.char ','\n",
    "\n",
    "field :: Parser Field\n",
    "field = many (P.noneOf \",\\n\")\n",
    "\n",
    "-- Now let's test it:\n",
    "exampleFile =\n",
    "    \"Haskell,Functional\\n\\\n",
    "    \\Python,Imperative\\n\\\n",
    "    \\Prolog,Logical\"\n",
    "\n",
    "P.runParser csv () \"example\" exampleFile"
   ]
  },
  {
   "cell_type": "code",
   "execution_count": 11,
   "metadata": {
    "collapsed": false
   },
   "outputs": [
    {
     "data": {
      "text/plain": [
       "Right [[\"Regular\",\"Regular Field\"],[\"Quoted\",\"One, two, three\"],[\"Escaped\",\"An \\\"escaped\\\" field\"]]"
      ]
     },
     "metadata": {},
     "output_type": "display_data"
    }
   ],
   "source": [
    "-- But wait! We forgot about escaping!\n",
    "\n",
    "-- Escaped CSV parser\n",
    "csv :: Parser CSV\n",
    "csv = record `P.sepBy` P.endOfLine\n",
    "\n",
    "record :: Parser Record\n",
    "record = field `P.sepBy` P.char ','\n",
    "\n",
    "-- redefine field\n",
    "field :: Parser Field\n",
    "field = quotedField <|> regularField\n",
    "\n",
    "quotedField :: Parser Field\n",
    "quotedField = P.char '\"' *> many inQuoteChar <* P.char '\"'\n",
    "\n",
    "inQuoteChar :: Parser Char\n",
    "inQuoteChar =\n",
    "    P.try (P.string \"\\\"\\\"\" *> return '\\\"') -- escaped quote\n",
    "    <|> P.noneOf \"\\n\\\"\" -- anything else\n",
    "\n",
    "regularField :: Parser Field\n",
    "regularField = many (P.noneOf \",\\n\")\n",
    "\n",
    "-- Now lets test it:\n",
    "exampleFile' =\n",
    "    \"Regular,Regular Field\\n\\\n",
    "    \\Quoted,\\\"One, two, three\\\"\\n\\\n",
    "    \\Escaped,\\\"An \\\"\\\"escaped\\\"\\\" field\\\"\"\n",
    "\n",
    "P.runParser csv () \"example'\" exampleFile'"
   ]
  },
  {
   "cell_type": "markdown",
   "metadata": {},
   "source": [
    "# But Devon! What about inherently state-y things?\n",
    "## Implementing A Solar Simulation"
   ]
  },
  {
   "cell_type": "code",
   "execution_count": 12,
   "metadata": {
    "collapsed": false
   },
   "outputs": [],
   "source": [
    "data SolarState = SolarState {\n",
    "        radius :: Double,\n",
    "        metallicity :: Double\n",
    "        -- ... other variables\n",
    "    }\n",
    "\n",
    "step :: SolarState -> SolarState\n",
    "step = undefined\n",
    "\n",
    "done :: SolarState -> Bool\n",
    "done = undefined\n",
    "\n",
    "runSim :: SolarState -> SolarState\n",
    "runSim initial_state = until done step initial_state\n",
    "\n",
    "doNsteps :: Int -> SolarState -> SolarState\n",
    "doNsteps n initial_state = iterate step initial_state !! n\n",
    "\n",
    "firstNSteps :: Int -> SolarState -> [SolarState]\n",
    "firstNSteps n initial_state = take n $ iterate step initial_state"
   ]
  },
  {
   "cell_type": "markdown",
   "metadata": {},
   "source": [
    "## Okay, but what about really, really inherently state-y things?"
   ]
  },
  {
   "cell_type": "markdown",
   "metadata": {},
   "source": [
    "### RNGs\n",
    "* Usually implemented as `nextVal :: Rng -> (a, Rng)`\n",
    "* Lots of ways of hiding this, so it's less obnoxious to work with. Example: type `Rand g Int`."
   ]
  },
  {
   "cell_type": "code",
   "execution_count": 13,
   "metadata": {
    "collapsed": false
   },
   "outputs": [
    {
     "data": {
      "text/plain": [
       "[5,5,1,3,2,2,1,1,1,1]"
      ]
     },
     "metadata": {},
     "output_type": "display_data"
    }
   ],
   "source": [
    "import Control.Monad.Random as R\n",
    "\n",
    "-- Plan: define a \"Random Int\", manipulate that, and finally evaluate the result of these manipulations with an RNG.\n",
    "\n",
    "-- Single die roll function.\n",
    "dieRoll :: R.RandomGen g => R.Rand g Int\n",
    "dieRoll = R.getRandomR (1, 6)\n",
    "\n",
    "-- Generate sums from rolling two dice\n",
    "dieRolls :: RandomGen g => R.Rand g [Int]\n",
    "dieRolls = sequence (repeat dieRoll)\n",
    "\n",
    "-- Take 10 rolls\n",
    "tenRolls :: RandomGen g => R.Rand g [Int]\n",
    "tenRolls = take 10 <$> dieRolls\n",
    "\n",
    "R.evalRand tenRolls (mkStdGen 71889)"
   ]
  },
  {
   "cell_type": "markdown",
   "metadata": {},
   "source": [
    "### Input / Output\n",
    "* Different functional languages deal with this differently\n",
    "* In Haskell, all functions that interact with the rest of the world *must* be marked IO\n",
    "  * Example: `readFile :: Filename -> IO String`\n",
    "  * Usually these functions can be separated nicely from everything else!\n",
    "  * If not, then it's good to know that your function is (arguably) not referentially transparent (hence the IO marker)"
   ]
  },
  {
   "cell_type": "code",
   "execution_count": 14,
   "metadata": {
    "collapsed": false
   },
   "outputs": [],
   "source": [
    "-- Implementation of `tac`\n",
    "import System.Environment (getArgs)\n",
    "\n",
    "main :: IO ()\n",
    "main =\n",
    "    getArgs -- get file names\n",
    "    >>= mapM readFile -- get list of file contentsreverseFile\n",
    "    >>= mapM_ (putStrLn . reverseFile)\n",
    "\n",
    "-- >>= is a way of chaining IO actions. More on that in optional Typeclasses section.\n",
    "\n",
    "-- Here we have separated the non-IO parts of our code from the IO parts\n",
    "reverseFile :: String -> String\n",
    "reverseFile = concat . reverse . lines"
   ]
  },
  {
   "cell_type": "markdown",
   "metadata": {},
   "source": [
    "# Optional Topic: Functional Error Handling"
   ]
  },
  {
   "cell_type": "code",
   "execution_count": 15,
   "metadata": {
    "collapsed": false
   },
   "outputs": [
    {
     "data": {
      "text/plain": [
       "1"
      ]
     },
     "metadata": {},
     "output_type": "display_data"
    },
    {
     "data": {
      "text/plain": [
       "'D'"
      ]
     },
     "metadata": {},
     "output_type": "display_data"
    }
   ],
   "source": [
    "first :: [a] -> a\n",
    "first (x:xs) = x\n",
    "\n",
    "first [1,2,3,4,5]\n",
    "first \"Devon is cool\"\n",
    "\n",
    "-- Show them the error here"
   ]
  },
  {
   "cell_type": "code",
   "execution_count": 16,
   "metadata": {
    "collapsed": false
   },
   "outputs": [
    {
     "data": {
      "text/plain": [
       "Just 1"
      ]
     },
     "metadata": {},
     "output_type": "display_data"
    },
    {
     "data": {
      "text/plain": [
       "Nothing"
      ]
     },
     "metadata": {},
     "output_type": "display_data"
    }
   ],
   "source": [
    "-- data Maybe a = Nothing | Just a\n",
    "\n",
    "first' :: [a] -> Maybe a\n",
    "first' (x:xs) = Just x\n",
    "first' [] = Nothing\n",
    "\n",
    "first' [1,2,3]\n",
    "first' []"
   ]
  },
  {
   "cell_type": "code",
   "execution_count": 17,
   "metadata": {
    "collapsed": false
   },
   "outputs": [
    {
     "data": {
      "text/plain": [
       "4"
      ]
     },
     "metadata": {},
     "output_type": "display_data"
    },
    {
     "data": {
      "text/plain": [
       "Just 4"
      ]
     },
     "metadata": {},
     "output_type": "display_data"
    },
    {
     "data": {
      "text/plain": [
       "Nothing"
      ]
     },
     "metadata": {},
     "output_type": "display_data"
    },
    {
     "data": {
      "text/plain": [
       "Just 4"
      ]
     },
     "metadata": {},
     "output_type": "display_data"
    },
    {
     "data": {
      "text/plain": [
       "Nothing"
      ]
     },
     "metadata": {},
     "output_type": "display_data"
    }
   ],
   "source": [
    "-- Using this, we can force ourselves to deal with edge cases!\n",
    "\n",
    "-- If we use the bad version of first, we can get into trouble\n",
    "first_incremented :: Num a => [a] -> a\n",
    "first_incremented xs = first xs + 1\n",
    "first_incremented [3,2,1]\n",
    "-- first_incremented [] -- error\n",
    "\n",
    "first_incremented' :: Num a => [a] -> Maybe a\n",
    "first_incremented' xs =\n",
    "    case first' xs of\n",
    "        Just n -> Just (n + 1)\n",
    "        Nothing -> Nothing\n",
    "\n",
    "first_incremented' [3,2,1]\n",
    "first_incremented' []\n",
    "\n",
    "-- We can do this more cleanly as:\n",
    "first_incremented'' :: Num a => [a] -> Maybe a\n",
    "first_incremented'' = fmap (+1) . first' --more on this if we have time!\n",
    "first_incremented'' [3,2,1]\n",
    "first_incremented'' []"
   ]
  },
  {
   "cell_type": "markdown",
   "metadata": {},
   "source": [
    "# Optional Topic: Functional Data Structures"
   ]
  },
  {
   "cell_type": "code",
   "execution_count": 18,
   "metadata": {
    "collapsed": false
   },
   "outputs": [],
   "source": [
    "-- List\n",
    "data List a = EmptyList | List a (List a)\n",
    "\n",
    "listContains :: Eq a => List a -> a -> Bool\n",
    "listContains EmptyList _ = False\n",
    "listContains (List val rest) x = (val == x) || listContains rest x\n",
    "\n",
    "-- Tree\n",
    "data Tree a = EmptyTree | Tree (Tree a) a (Tree a)\n",
    "\n",
    "treeContains :: Eq a => Tree a -> a -> Bool\n",
    "treeContains EmptyTree _ = False\n",
    "treeContains (Tree left val right) x = (val == x) || treeContains left x || treeContains right x"
   ]
  },
  {
   "cell_type": "markdown",
   "metadata": {},
   "source": [
    "# Optional Topic: Writing Super General Code With Typeclasses, or: How I Learned to Stop Worrying and Love The Monad\n",
    "## Functors\n",
    "* We have seen types [a] and Maybe a\n",
    "* For [a] you can define a function (a -> b) -> [a] -> [b]\n",
    "* For Maybe a you can define a function (a -> b) -> Maybe a -> Maybe b\n",
    "* Let's abstract this!"
   ]
  },
  {
   "cell_type": "code",
   "execution_count": 19,
   "metadata": {
    "collapsed": false
   },
   "outputs": [
    {
     "data": {
      "text/plain": [
       "[\"1\",\"2\",\"3\"]"
      ]
     },
     "metadata": {},
     "output_type": "display_data"
    },
    {
     "data": {
      "text/plain": [
       "Just \"1\""
      ]
     },
     "metadata": {},
     "output_type": "display_data"
    },
    {
     "data": {
      "text/plain": [
       "Nothing"
      ]
     },
     "metadata": {},
     "output_type": "display_data"
    }
   ],
   "source": [
    "class Functor' f where\n",
    "    fmap' :: (a -> b) -> f a -> f b\n",
    "    -- This is also written as <$>\n",
    "    -- Must act intuitively with `id`\n",
    "    \n",
    "instance Functor' [] where\n",
    "    fmap' = map\n",
    "\n",
    "instance Functor' Maybe where\n",
    "    fmap' f (Just a) = Just (f a)\n",
    "    fmap' f Nothing = Nothing\n",
    "    \n",
    "fmap' show [1,2,3]\n",
    "fmap' show (Just 1)\n",
    "fmap' show Nothing"
   ]
  },
  {
   "cell_type": "markdown",
   "metadata": {},
   "source": [
    "## Applicative\n",
    "* You can make a similar typeclass for when the function itself is encapsulated. This is `Applicative`.\n",
    "* This is useful for building up things that may fail, or applying many functions"
   ]
  },
  {
   "cell_type": "code",
   "execution_count": 20,
   "metadata": {
    "collapsed": false
   },
   "outputs": [
    {
     "data": {
      "text/plain": [
       "Just (Star {starName = \"Sol\", starMass = 2.0e30})"
      ]
     },
     "metadata": {},
     "output_type": "display_data"
    },
    {
     "data": {
      "text/plain": [
       "Nothing"
      ]
     },
     "metadata": {},
     "output_type": "display_data"
    },
    {
     "data": {
      "text/plain": [
       "[2,4,6,1,4,9]"
      ]
     },
     "metadata": {},
     "output_type": "display_data"
    }
   ],
   "source": [
    "class Applicative' f where\n",
    "    pure' :: a -> f a\n",
    "    apply' :: f (a -> b) -> f a -> f b\n",
    "    \n",
    "-- uses:\n",
    "\n",
    "-- Constructing thing who's parts may fail:\n",
    "data Star = Star {\n",
    "    starName :: String,\n",
    "    starMass :: Double\n",
    "    } deriving Show\n",
    "    \n",
    "makeStar :: Maybe String -> Maybe Double -> Maybe Star\n",
    "makeStar maybe_name maybe_mass = pure Star <*> maybe_name <*> maybe_mass\n",
    "\n",
    "makeStar (Just \"Sol\") (Just 2e30)\n",
    "makeStar Nothing (Just 2e10)\n",
    "\n",
    "-- Applying multiple functions:\n",
    "[(*2), (^2)] <*> [1,2,3]"
   ]
  },
  {
   "cell_type": "markdown",
   "metadata": {},
   "source": [
    "## (The dreaded) Monads!\n",
    "* Could also define something that handles (a -> f b) -> f a -> f b\n",
    "  * This operator is called `>>=` in Haskell \n",
    "  * Also need an operator, similar to `pure`. This is (unfortunately) called `return` in Haskell.\n",
    "* Useful for handling chains of things which carry some context around with them\n",
    "* This is how Haskell handles IO actions!"
   ]
  },
  {
   "cell_type": "code",
   "execution_count": 21,
   "metadata": {
    "collapsed": true
   },
   "outputs": [],
   "source": [
    ":opt no-lint -- ignore the lint behind the curtain!"
   ]
  },
  {
   "cell_type": "code",
   "execution_count": 22,
   "metadata": {
    "collapsed": false
   },
   "outputs": [
    {
     "data": {
      "text/plain": [
       "Just 4"
      ]
     },
     "metadata": {},
     "output_type": "display_data"
    },
    {
     "data": {
      "text/plain": [
       "Nothing"
      ]
     },
     "metadata": {},
     "output_type": "display_data"
    },
    {
     "data": {
      "text/plain": [
       "Nothing"
      ]
     },
     "metadata": {},
     "output_type": "display_data"
    }
   ],
   "source": [
    "posAdd :: Int -> Int -> Maybe Int\n",
    "posAdd n x\n",
    "    | n+x > 0 = Just (n+x)\n",
    "    | otherwise = Nothing\n",
    "    \n",
    "posMul :: Int -> Int -> Maybe Int\n",
    "posMul n x\n",
    "    | n*x > 0 = Just (n*x)\n",
    "    | otherwise = Nothing\n",
    "\n",
    "return 1 >>= posAdd 1 >>= posMul 2\n",
    "return 1 >>= posAdd 1 >>= posMul (-2)\n",
    "return 1 >>= posAdd (-1) >>= posMul 2"
   ]
  },
  {
   "cell_type": "markdown",
   "metadata": {},
   "source": [
    "# Haskell Syntax (For reference!)\n",
    "\n",
    "## Basic expressions"
   ]
  },
  {
   "cell_type": "code",
   "execution_count": 23,
   "metadata": {
    "collapsed": false
   },
   "outputs": [
    {
     "data": {
      "text/plain": [
       "1"
      ]
     },
     "metadata": {},
     "output_type": "display_data"
    },
    {
     "data": {
      "text/plain": [
       "1.0"
      ]
     },
     "metadata": {},
     "output_type": "display_data"
    },
    {
     "data": {
      "text/plain": [
       "True"
      ]
     },
     "metadata": {},
     "output_type": "display_data"
    },
    {
     "data": {
      "text/plain": [
       "'a'"
      ]
     },
     "metadata": {},
     "output_type": "display_data"
    },
    {
     "data": {
      "text/plain": [
       "\"abc\""
      ]
     },
     "metadata": {},
     "output_type": "display_data"
    },
    {
     "data": {
      "text/plain": [
       "(1,'a',\"Alpha\")"
      ]
     },
     "metadata": {},
     "output_type": "display_data"
    },
    {
     "data": {
      "text/plain": [
       "[1,2,3]"
      ]
     },
     "metadata": {},
     "output_type": "display_data"
    },
    {
     "data": {
      "text/plain": [
       "[1,2,3]"
      ]
     },
     "metadata": {},
     "output_type": "display_data"
    },
    {
     "data": {
      "text/plain": [
       "-1"
      ]
     },
     "metadata": {},
     "output_type": "display_data"
    },
    {
     "data": {
      "text/plain": [
       "False"
      ]
     },
     "metadata": {},
     "output_type": "display_data"
    },
    {
     "data": {
      "text/plain": [
       "5"
      ]
     },
     "metadata": {},
     "output_type": "display_data"
    },
    {
     "data": {
      "text/plain": [
       "3"
      ]
     },
     "metadata": {},
     "output_type": "display_data"
    },
    {
     "data": {
      "text/plain": [
       "3"
      ]
     },
     "metadata": {},
     "output_type": "display_data"
    }
   ],
   "source": [
    "-- this is a comment\n",
    "\n",
    "-- Basic types:\n",
    "1   -- Integer\n",
    "1.0 -- Double\n",
    "True -- Boolean\n",
    "'a' -- Char\n",
    "\"abc\" -- String\n",
    "(1,'a',\"Alpha\") -- Tuple\n",
    "[1,2,3] -- List\n",
    "\n",
    "-- Lists\n",
    "1:[2,3] -- [1,2,3]\n",
    "\n",
    "-- Pattern matching\n",
    "(a,b) = (1,2) -- a and b are 1 and 2, respectively\n",
    "(x:xs) = [1,2,3] -- x is 1, xs is [2,3]\n",
    "\n",
    "-- Function application\n",
    "negate 1 -- -1\n",
    "not True -- False\n",
    "gcd 15 20 -- 5\n",
    "1 + 2 -- 3. Operators are just infix functions!\n",
    "(+) 1 2 -- Prefix version"
   ]
  },
  {
   "cell_type": "markdown",
   "metadata": {},
   "source": [
    "## Definitions and Types"
   ]
  },
  {
   "cell_type": "code",
   "execution_count": 24,
   "metadata": {
    "collapsed": false
   },
   "outputs": [
    {
     "data": {
      "text/plain": [
       "3.0"
      ]
     },
     "metadata": {},
     "output_type": "display_data"
    }
   ],
   "source": [
    "-- Definitions\n",
    "someVal = 3 -- Constant value\n",
    "increment x = x + 1 -- Function taking one argument\n",
    "add x y = x + y -- Function taking multiple arguments\n",
    "\n",
    "-- Multiple definitions\n",
    "sum' (x:xs) = x + sum' xs -- Recursively sum up a list\n",
    "sum' [] = 0 -- Base case for empty list\n",
    " \n",
    "-- Specifying types\n",
    "someVal :: Int -- SomeVal is an Int\n",
    "3 :: Float -- Here we want to make sure that 3 is read as a Float\n",
    "\n",
    "decrement :: Int -> Int -- decrement is a function which takes an Int and returns an Int\n",
    "decrement n = n - 1\n",
    "\n",
    "multiply :: Int -> Int -> Int -- multiply takes 2 Ints and returns an Int\n",
    "multiply x y = x * y\n",
    "\n",
    "-- another view: multiply takes an Int and returns a function from Int to Int\n",
    "triple :: Int -> Int\n",
    "triple = multiply 3\n",
    "\n",
    "-- Generic functions:\n",
    "id' :: a -> a -- id' is a function which works for any type `a`. It takes an `a` and returns an `a`\n",
    "id' x = x -- id' pretty much has to be defined this way, given its type signature\n",
    "\n",
    "-- Constrained Generics\n",
    "increment' :: Num a => a -> a -- A more generic signature for increment: will work for any Numeric type\n",
    "increment' x = x + 1 -- Same function as before here"
   ]
  },
  {
   "cell_type": "markdown",
   "metadata": {},
   "source": [
    "## Putting all that syntax together"
   ]
  },
  {
   "cell_type": "code",
   "execution_count": 25,
   "metadata": {
    "collapsed": false,
    "scrolled": true
   },
   "outputs": [
    {
     "data": {
      "text/html": [
       "<style>/*\n",
       "Custom IHaskell CSS.\n",
       "*/\n",
       "\n",
       "/* Styles used for the Hoogle display in the pager */\n",
       ".hoogle-doc {\n",
       "    display: block;\n",
       "    padding-bottom: 1.3em;\n",
       "    padding-left: 0.4em;\n",
       "}\n",
       ".hoogle-code {\n",
       "    display: block;\n",
       "    font-family: monospace;\n",
       "    white-space: pre;\n",
       "}\n",
       ".hoogle-text {\n",
       "    display: block;\n",
       "}\n",
       ".hoogle-name {\n",
       "    color: green;\n",
       "    font-weight: bold;\n",
       "}\n",
       ".hoogle-head {\n",
       "    font-weight: bold;\n",
       "}\n",
       ".hoogle-sub {\n",
       "    display: block;\n",
       "    margin-left: 0.4em;\n",
       "}\n",
       ".hoogle-package {\n",
       "    font-weight: bold;\n",
       "    font-style: italic;\n",
       "}\n",
       ".hoogle-module {\n",
       "    font-weight: bold;\n",
       "}\n",
       ".hoogle-class {\n",
       "    font-weight: bold;\n",
       "}\n",
       "\n",
       "/* Styles used for basic displays */\n",
       ".get-type {\n",
       "    color: green;\n",
       "    font-weight: bold;\n",
       "    font-family: monospace;\n",
       "    display: block;\n",
       "    white-space: pre-wrap;\n",
       "}\n",
       "\n",
       ".show-type {\n",
       "    color: green;\n",
       "    font-weight: bold;\n",
       "    font-family: monospace;\n",
       "    margin-left: 1em;\n",
       "}\n",
       "\n",
       ".mono {\n",
       "    font-family: monospace;\n",
       "    display: block;\n",
       "}\n",
       "\n",
       ".err-msg {\n",
       "    color: red;\n",
       "    font-style: italic;\n",
       "    font-family: monospace;\n",
       "    white-space: pre;\n",
       "    display: block;\n",
       "}\n",
       "\n",
       "#unshowable {\n",
       "    color: red;\n",
       "    font-weight: bold;\n",
       "}\n",
       "\n",
       ".err-msg.in.collapse {\n",
       "  padding-top: 0.7em;\n",
       "}\n",
       "\n",
       "/* Code that will get highlighted before it is highlighted */\n",
       ".highlight-code {\n",
       "    white-space: pre;\n",
       "    font-family: monospace;\n",
       "}\n",
       "\n",
       "/* Hlint styles */\n",
       ".suggestion-warning { \n",
       "    font-weight: bold;\n",
       "    color: rgb(200, 130, 0);\n",
       "}\n",
       ".suggestion-error { \n",
       "    font-weight: bold;\n",
       "    color: red;\n",
       "}\n",
       ".suggestion-name {\n",
       "    font-weight: bold;\n",
       "}\n",
       "</style><span class='get-type'>show :: forall a. Show a => a -> String</span>"
      ],
      "text/plain": [
       "show :: forall a. Show a => a -> String"
      ]
     },
     "metadata": {},
     "output_type": "display_data"
    },
    {
     "data": {
      "text/plain": [
       "[\"1\",\"2\",\"3\",\"4\"]"
      ]
     },
     "metadata": {},
     "output_type": "display_data"
    }
   ],
   "source": [
    "map' :: (a -> b) -> [a] -> [b] -- map' takes a function from `a` to `b` and a list of `a`s, and returns a list of `b`s\n",
    "map' f (x:xs) = f x : map' f xs -- apply `f` to the first element, and then to the rest\n",
    "map' _ [] = [] -- mapping over an empty list just returns the empty list.\n",
    "               -- We don't care what `f` is here, so we write \"_\" as a placeholder (same as in Python)\n",
    "\n",
    ":t show\n",
    "map' show [1,2,3,4]"
   ]
  }
 ],
 "metadata": {
  "kernelspec": {
   "display_name": "Haskell",
   "language": "haskell",
   "name": "haskell"
  }
 },
 "nbformat": 4,
 "nbformat_minor": 0
}
